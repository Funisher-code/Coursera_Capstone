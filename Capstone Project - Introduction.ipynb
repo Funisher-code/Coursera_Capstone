{
 "cells": [
  {
   "cell_type": "markdown",
   "metadata": {},
   "source": [
    "# IBM DATA SCIENCE - Capstone Project\n",
    "# *COVID-19: safe and efficient Food Deliveries for People at Risk*\n",
    "----"
   ]
  },
  {
   "cell_type": "markdown",
   "metadata": {},
   "source": [
    "## Introduction"
   ]
  },
  {
   "attachments": {},
   "cell_type": "markdown",
   "metadata": {},
   "source": [
    "Here in Switzerland there's currently a lockdown in place. Everybody needs to stay at home unless you have to go to work or need to buy food or other items necessary to survive.\n",
    "\n",
    "As in many other countries of the world, the goal is to flatten the curve of infected people in order to make sure, our health system doesn't collapse.\n",
    "\n",
    "Very important in this sense is, that **hospitals should not have to treat too many severe cases at the same time**.\n",
    "\n",
    "The risk to become a severe case and to need hospitalization is much higher for people over the age of 65 and/or having chronic illnesses and also other factors. For it to work **these people at risk should not leave home at all, if possible not even for basic shopping like getting food**\n",
    "\n",
    "Where I live, I was able to sign up for a **neighborhood help program** so I as **helper** can go shopping for people at risk. Helpers should shop in the vicinity and also deliver in the vicinity of their homes. This safes both time as well as helps lowering the risk of spreading any possible virus infections over a big area.\n",
    "\n",
    "Of course, we also have **another problem of economical nature**. There's bakeries, cafes, restaurants... that are either closed or only allowed to provide take-away service.\n",
    "\n",
    "----\n",
    "\n",
    "So we all want to...\n",
    "1. ...keep people at risk **safe but not hungry**\n",
    "2. ...keep food producers **up and running**\n",
    "3. ...use helpers as **efficiently** as possible"
   ]
  },
  {
   "cell_type": "markdown",
   "metadata": {},
   "source": [
    "## Possible Solution"
   ]
  },
  {
   "cell_type": "markdown",
   "metadata": {},
   "source": [
    "In a simplified manner: \n",
    "- People at risk want to eat.\n",
    "- Let people at risk query food stations only in the vicinity of their homes.\n",
    "- Match resulting orders with helpers both close to the ppl at risk as well as the food stations. "
   ]
  },
  {
   "cell_type": "markdown",
   "metadata": {},
   "source": [
    "## Data Used"
   ]
  },
  {
   "cell_type": "markdown",
   "metadata": {},
   "source": [
    "- hypothetical positions of **people at risk**\n",
    "- **Foursquare location data** for **possible food stations** (restaurants, cafes, bakeries...) in the vicinity of people at risk\n",
    "- hypothetical positions of possible **helpers**"
   ]
  }
 ],
 "metadata": {
  "kernelspec": {
   "display_name": "Python 3",
   "language": "python",
   "name": "python3"
  },
  "language_info": {
   "codemirror_mode": {
    "name": "ipython",
    "version": 3
   },
   "file_extension": ".py",
   "mimetype": "text/x-python",
   "name": "python",
   "nbconvert_exporter": "python",
   "pygments_lexer": "ipython3",
   "version": "3.7.6"
  }
 },
 "nbformat": 4,
 "nbformat_minor": 4
}
