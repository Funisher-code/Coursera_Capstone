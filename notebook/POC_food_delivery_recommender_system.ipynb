{
 "cells": [
  {
   "cell_type": "markdown",
   "metadata": {},
   "source": [
    "# PoC of Recommender System for safe and efficient Food Deliveries during Infectious Disease induced Lockdowns"
   ]
  },
  {
   "cell_type": "markdown",
   "metadata": {},
   "source": [
    "Course \"IBM Data Science\", Capstone Project, April 2020 by [Markus Mächler](https://www.linkedin.com/in/markus-maechler/)"
   ]
  },
  {
   "cell_type": "markdown",
   "metadata": {},
   "source": [
    "## Introduction"
   ]
  },
  {
   "cell_type": "markdown",
   "metadata": {},
   "source": [
    "### Major problems during a lockdown concerning shopping / food deliveries\n",
    "1. keep people at risk **safe but not hungry**\n",
    "2. keep shops and restaurants **up and running**\n",
    "3. use helpers as **efficiently and safely** as possible"
   ]
  },
  {
   "cell_type": "markdown",
   "metadata": {},
   "source": [
    "The purpose of this project is creating a small POC (proof of concept) to help tackling our three problems by creating a simple but efficient recommender system that could be used to place actual orders."
   ]
  },
  {
   "cell_type": "markdown",
   "metadata": {},
   "source": [
    "For more background infromation, read the full report [??????????](https://)"
   ]
  },
  {
   "cell_type": "markdown",
   "metadata": {},
   "source": [
    "## Data"
   ]
  },
  {
   "cell_type": "markdown",
   "metadata": {},
   "source": [
    "#### Location Data\n",
    "\n",
    "For every order, **location data of all the three parties** is absolutely necessary. For this POC I'm using the following data sources.\n",
    "\n",
    "- customers: **hypothetical positions in Zurich**\n",
    "- shops: **Foursquare location data** acquired via API in the vicinity of people at risk\n",
    "- helpers: **hypothetical positions in Zurich**"
   ]
  },
  {
   "cell_type": "code",
   "execution_count": null,
   "metadata": {},
   "outputs": [],
   "source": []
  },
  {
   "cell_type": "code",
   "execution_count": null,
   "metadata": {},
   "outputs": [],
   "source": []
  },
  {
   "cell_type": "code",
   "execution_count": null,
   "metadata": {},
   "outputs": [],
   "source": []
  },
  {
   "cell_type": "code",
   "execution_count": null,
   "metadata": {},
   "outputs": [],
   "source": []
  }
 ],
 "metadata": {
  "kernelspec": {
   "display_name": "Python 3",
   "language": "python",
   "name": "python3"
  },
  "language_info": {
   "codemirror_mode": {
    "name": "ipython",
    "version": 3
   },
   "file_extension": ".py",
   "mimetype": "text/x-python",
   "name": "python",
   "nbconvert_exporter": "python",
   "pygments_lexer": "ipython3",
   "version": "3.7.6"
  }
 },
 "nbformat": 4,
 "nbformat_minor": 4
}
